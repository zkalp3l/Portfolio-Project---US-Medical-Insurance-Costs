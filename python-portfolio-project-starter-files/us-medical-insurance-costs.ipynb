{
 "cells": [
  {
   "cell_type": "markdown",
   "metadata": {},
   "source": [
    "# U.S. Medical Insurance Costs"
   ]
  },
  {
   "cell_type": "code",
   "execution_count": 1,
   "metadata": {},
   "outputs": [],
   "source": [
    "import csv"
   ]
  },
  {
   "cell_type": "code",
   "execution_count": 32,
   "metadata": {},
   "outputs": [],
   "source": [
    "# Load csv reader into column lists\n",
    "\n",
    "ages = []\n",
    "genders = []\n",
    "bmis = []\n",
    "childrens = []\n",
    "smokers = []\n",
    "regions = []\n",
    "charges = []\n",
    "\n",
    "\n",
    "\n",
    "with open('insurance.csv') as fh:\n",
    "    fData = csv.DictReader(fh)\n",
    "    #print(dict(fData[0]))\n",
    "    #print( fData.readlines() )\n",
    "    #print( fData['age'] )\n",
    "    for row in fData:\n",
    "        #print(row)\n",
    "        #print(row['smoker'])\n",
    "        ages.append( int( row['age']))\n",
    "        genders.append(row['sex'])\n",
    "        bmis.append( float(row['bmi']))\n",
    "        childrens.append( int( row['children']))\n",
    "        smokers.append(row['smoker'])\n",
    "        regions.append(row['region'])\n",
    "        charges.append(row['charges'])\n",
    "    "
   ]
  },
  {
   "cell_type": "code",
   "execution_count": 35,
   "metadata": {},
   "outputs": [],
   "source": [
    "#print( bmis, childrens, smokers )"
   ]
  }
 ],
 "metadata": {
  "kernelspec": {
   "display_name": "Python 3 (ipykernel)",
   "language": "python",
   "name": "python3"
  },
  "language_info": {
   "codemirror_mode": {
    "name": "ipython",
    "version": 3
   },
   "file_extension": ".py",
   "mimetype": "text/x-python",
   "name": "python",
   "nbconvert_exporter": "python",
   "pygments_lexer": "ipython3",
   "version": "3.10.9"
  }
 },
 "nbformat": 4,
 "nbformat_minor": 4
}
